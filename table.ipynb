{
 "cells": [
  {
   "cell_type": "code",
   "execution_count": 1,
   "metadata": {},
   "outputs": [],
   "source": [
    "import cv2\n",
    "import numpy as np\n",
    "import math"
   ]
  },
  {
   "cell_type": "markdown",
   "metadata": {},
   "source": [
    "## Load image, grayscale, Otsu's threshold"
   ]
  },
  {
   "cell_type": "code",
   "execution_count": 2,
   "metadata": {},
   "outputs": [],
   "source": [
    "image = cv2.imread('table8.png')\n",
    "gray = cv2.cvtColor(image, cv2.COLOR_BGR2GRAY)\n",
    "thresh, img_bin = cv2.threshold(gray, 128, 255, cv2.THRESH_BINARY | cv2.THRESH_OTSU)\n",
    "img_bin = 255-img_bin"
   ]
  },
  {
   "cell_type": "markdown",
   "metadata": {},
   "source": [
    "## Detect horizontal lines "
   ]
  },
  {
   "cell_type": "code",
   "execution_count": 3,
   "metadata": {},
   "outputs": [],
   "source": [
    "# Detect horizontal lines \n",
    "kernel_len = gray.shape[1]//120\n",
    "hor_kernel = cv2.getStructuringElement(cv2.MORPH_RECT, (kernel_len, 1))\n",
    "image_horizontal = cv2.erode(img_bin, hor_kernel, iterations=3)\n",
    "horizontal_lines = cv2.dilate(image_horizontal, hor_kernel, iterations=3)\n",
    "h_lines = cv2.HoughLinesP(horizontal_lines, 1, np.pi/180, 30, maxLineGap=250)"
   ]
  },
  {
   "cell_type": "markdown",
   "metadata": {},
   "source": [
    "## Group horizontal lines if they in the same line\n",
    "\n",
    "### Input: list of horizontal lines, threshold of lines(how far apart of each other)\n",
    "### Output: new horizontal lines that are grouped"
   ]
  },
  {
   "cell_type": "code",
   "execution_count": 4,
   "metadata": {},
   "outputs": [],
   "source": [
    "def group_h_lines(h_lines, thin_thresh):\n",
    "    new_h_lines = []\n",
    "    while len(h_lines) > 0:\n",
    "        thresh = sorted(h_lines, key=lambda x: x[0][1])[0][0]\n",
    "        lines = [line for line in h_lines if thresh[1] - thin_thresh <= line[0][1] <= thresh[1] + thin_thresh]\n",
    "        h_lines = [line for line in h_lines if thresh[1] - thin_thresh > line[0][1] or line[0][1] > thresh[1] + thin_thresh]\n",
    "        x = []\n",
    "        for line in lines:\n",
    "            x.append(line[0][0])\n",
    "            x.append(line[0][2])\n",
    "        x_min, x_max = min(x) - int(5*thin_thresh), max(x) + int(5*thin_thresh)\n",
    "        new_h_lines.append([x_min, thresh[1], x_max, thresh[1]])\n",
    "    return new_h_lines\n",
    "    \n",
    "new_horizontal_lines = group_h_lines(h_lines, kernel_len)"
   ]
  },
  {
   "cell_type": "markdown",
   "metadata": {},
   "source": [
    "## Detect vertical lines "
   ]
  },
  {
   "cell_type": "code",
   "execution_count": 5,
   "metadata": {},
   "outputs": [],
   "source": [
    "kernel_len = gray.shape[1]//120\n",
    "ver_kernel = cv2.getStructuringElement(cv2.MORPH_RECT, (1, kernel_len))\n",
    "image_vertical = cv2.erode(img_bin, ver_kernel, iterations=3)\n",
    "vertical_lines = cv2.dilate(image_vertical, ver_kernel, iterations=3)\n",
    "\n",
    "v_lines = cv2.HoughLinesP(vertical_lines, 1, np.pi/180, 30, maxLineGap=250)"
   ]
  },
  {
   "cell_type": "markdown",
   "metadata": {},
   "source": [
    "## Group vertical lines if they in the same line\n",
    "\n",
    "### Input: list of vertical lines, threshold of lines(how far apart of each other)\n",
    "### Output: new vertical lines that are grouped"
   ]
  },
  {
   "cell_type": "code",
   "execution_count": 6,
   "metadata": {},
   "outputs": [],
   "source": [
    "def group_v_lines(v_lines, thin_thresh):\n",
    "    new_v_lines = []\n",
    "    while len(v_lines) > 0:\n",
    "        thresh = sorted(v_lines, key=lambda x: x[0][0])[0][0]\n",
    "        lines = [line for line in v_lines if thresh[0] -\n",
    "                 thin_thresh <= line[0][0] <= thresh[0] + thin_thresh]\n",
    "        v_lines = [line for line in v_lines if thresh[0] - thin_thresh >\n",
    "                   line[0][0] or line[0][0] > thresh[0] + thin_thresh]\n",
    "        y = []\n",
    "        for line in lines:\n",
    "            y.append(line[0][1])\n",
    "            y.append(line[0][3])\n",
    "        y_min, y_max = min(y) - int(4*thin_thresh), max(y) + int(4*thin_thresh)\n",
    "        new_v_lines.append([thresh[0], y_min, thresh[0], y_max])\n",
    "    return new_v_lines\n",
    "    \n",
    "new_vertical_lines = group_v_lines(v_lines, kernel_len)"
   ]
  },
  {
   "cell_type": "markdown",
   "metadata": {},
   "source": [
    "## Find intersect point of a horizontal line and a vertical line\n",
    "\n",
    "### Input: two lines\n",
    "### Output: intersect point of two input lines"
   ]
  },
  {
   "cell_type": "code",
   "execution_count": 7,
   "metadata": {},
   "outputs": [],
   "source": [
    "def seg_intersect(line1: list, line2: list):\n",
    "    a1, a2 = line1\n",
    "    b1, b2 = line2\n",
    "    da = a2-a1\n",
    "    db = b2-b1\n",
    "    dp = a1-b1\n",
    "\n",
    "    def perp(a):\n",
    "        b = np.empty_like(a)\n",
    "        b[0] = -a[1]\n",
    "        b[1] = a[0]\n",
    "        return b\n",
    "\n",
    "    dap = perp(da)\n",
    "    denom = np.dot(dap, db)\n",
    "    num = np.dot(dap, dp)\n",
    "    return (num / denom.astype(float))*db + b1"
   ]
  },
  {
   "cell_type": "markdown",
   "metadata": {},
   "source": [
    "## Get intersect points"
   ]
  },
  {
   "cell_type": "code",
   "execution_count": 8,
   "metadata": {},
   "outputs": [],
   "source": [
    "points = []\n",
    "for hline in new_horizontal_lines:\n",
    "    x1A, y1A, x2A, y2A = hline\n",
    "#     cv2.line(image, (x1A, y1A), (x2A, y2A), (0, 0, 255), thickness=2)\n",
    "    for vline in new_vertical_lines:\n",
    "        x1B, y1B, x2B, y2B = vline\n",
    "#         cv2.line(image, (x1B, y1B), (x2B, y2B), (0, 0, 255), thickness=2)\n",
    "        line1 = [np.array([x1A, y1A]), np.array([x2A, y2A])]\n",
    "        line2 = [np.array([x1B, y1B]), np.array([x2B, y2B])]\n",
    "\n",
    "        x, y = seg_intersect(line1, line2)\n",
    "        if x1A <= x <= x2A and y1B <= y <= y2B:\n",
    "            points.append([int(x), int(y)])\n",
    "\n",
    "            "
   ]
  },
  {
   "cell_type": "markdown",
   "metadata": {},
   "source": [
    "## Draw lines of tables"
   ]
  },
  {
   "cell_type": "code",
   "execution_count": 9,
   "metadata": {},
   "outputs": [],
   "source": [
    "# for i in points:\n",
    "#     for j in points:\n",
    "#         dis=math.sqrt( ((int(i[0])-int(j[0]))**2)+((int(i[1])-int(j[1]))**2) )\n",
    "#         if (dis<150 and (j[0]-3 <= i[0] <= j[0]+3 or j[1]-3 <= i[1] <= j[1]+3)):\n",
    "#             cv2.line(image, (i[0], i[1]), (j[0], j[1]), (0, 0, 255), thickness=2)"
   ]
  },
  {
   "cell_type": "markdown",
   "metadata": {},
   "source": [
    "## Gaussian blur, Otsu's threshold"
   ]
  },
  {
   "cell_type": "code",
   "execution_count": 10,
   "metadata": {},
   "outputs": [],
   "source": [
    "blur = cv2.GaussianBlur(gray, (7,7), 0)\n",
    "thresh = cv2.threshold(blur, 0, 255, cv2.THRESH_BINARY_INV + cv2.THRESH_OTSU)[1]"
   ]
  },
  {
   "cell_type": "markdown",
   "metadata": {},
   "source": [
    "## Create rectangular structuring element and dilate"
   ]
  },
  {
   "cell_type": "code",
   "execution_count": 11,
   "metadata": {},
   "outputs": [],
   "source": [
    "kernel = cv2.getStructuringElement(cv2.MORPH_RECT, (5,5))\n",
    "dilate = cv2.dilate(thresh, kernel, iterations=4)"
   ]
  },
  {
   "cell_type": "markdown",
   "metadata": {},
   "source": [
    "## Find contours, draw rectangle and numbering"
   ]
  },
  {
   "cell_type": "code",
   "execution_count": 12,
   "metadata": {},
   "outputs": [],
   "source": [
    "cnts = cv2.findContours(dilate, cv2.RETR_EXTERNAL, cv2.CHAIN_APPROX_SIMPLE)\n",
    "cnts = cnts[0] if len(cnts) == 2 else cnts[1]\n",
    "n =0\n",
    "para_c=0\n",
    "table_c=0\n",
    "for c in cnts:\n",
    "    n+=1\n",
    "for c in cnts:\n",
    "    x,y,w,h = cv2.boundingRect(c)\n",
    "    isTable=False\n",
    "    for p in points:\n",
    "        if (x <= p[0] <= x+w and y <= p[1] <= y+h):\n",
    "            isTable=True\n",
    "            \n",
    "    if (w>50 and h>50):\n",
    "        \n",
    "        if (isTable==True):\n",
    "            table_c+=1\n",
    "            cv2.rectangle(image, (x+5, y+5), (x + w -5, y + h -5), (0, 0, 255), 2)\n",
    "            cv2.putText(image, \"Table \"+str(table_c), (x,y), cv2.FONT_HERSHEY_COMPLEX, 1, (0, 0, 255), 1, cv2.LINE_AA)\n",
    "        else:\n",
    "            para_c+=1\n",
    "            cv2.rectangle(image, (x+5, y+5), (x + w -5, y + h -5), (36,255,12), 2)\n",
    "            cv2.putText(image, \"Paragraph \"+str(para_c), (x,y), cv2.FONT_HERSHEY_COMPLEX, 1, (32, 158, 68), 1, cv2.LINE_AA)\n",
    "            \n",
    "# cv2.imshow('thresh', thresh)\n",
    "# cv2.imshow('dilate', dilate)\n",
    "print(\"Number of paragraph: \",para_c)\n",
    "print(\"Number of table: \",table_c)\n",
    "cv2.imshow('image', image)\n",
    "cv2.waitKey(0)\n",
    "cv2.destroyAllWindows()"
   ]
  },
  {
   "cell_type": "code",
   "execution_count": null,
   "metadata": {},
   "outputs": [],
   "source": []
  }
 ],
 "metadata": {
  "kernelspec": {
   "display_name": "Python 3",
   "language": "python",
   "name": "python3"
  },
  "language_info": {
   "codemirror_mode": {
    "name": "ipython",
    "version": 3
   },
   "file_extension": ".py",
   "mimetype": "text/x-python",
   "name": "python",
   "nbconvert_exporter": "python",
   "pygments_lexer": "ipython3",
   "version": "3.8.5"
  }
 },
 "nbformat": 4,
 "nbformat_minor": 4
}
